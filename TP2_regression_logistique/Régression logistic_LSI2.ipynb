{
 "cells": [
  {
   "cell_type": "markdown",
   "metadata": {
    "id": "UpG7Nd4v9Xca"
   },
   "source": [
    "# To predict heart disease\n",
    "In this Lab, we ask you to apply the Logistic Regression to predict heart disease"
   ]
  },
  {
   "cell_type": "markdown",
   "metadata": {
    "id": "PzbOp32s9Xcf"
   },
   "source": [
    "### Dataset\n",
    "\n",
    "* **Sex**: male or female(Nominal)\n",
    "* **Age**: Age of the patient;(Continuous - Although the recorded ages have been truncated to whole numbers, the concept of age is continuous)\n",
    "* **Current Smoker**: the number of cigarettes that the person smoked on average in one day.(can be considered continuous as one can have any number of cigarettes, even half a cigarette.) or not the patient is a current smoker (Nominal)\n",
    "* **Cigs Per Day**: the number of cigarettes that the person smoked on average in one day.(can be considered continuous as one can have any number of cigarettes, even half a cigarette.)\n",
    "* **BP Meds**: whether or not the patient was on blood pressure medication (Nominal)\n",
    "* **Prevalent Stroke**: whether or not the patient had previously had a stroke (Nominal)\n",
    "* **Prevalent Hyp**: whether or not the patient was hypertensive (Nominal)\n",
    "* **Diabetes**: whether or not the patient had diabetes (Nominal)\n",
    "* **Tot Chol**: total cholesterol level (Continuous)\n",
    "* **Sys BP**: systolic blood pressure (Continuous)\n",
    "* **Dia BP**: diastolic blood pressure (Continuous)\n",
    "* **BMI** Body Mass Index (Continuous)\n",
    "* **Heart Rate**: heart rate (Continuous - In medical research, variables such as heart rate though in fact discrete, yet are considered continuous because of large number of possible values.)\n",
    "* **Glucose**: glucose level (Continuous)\n",
    "\n",
    "```Predict variable (desired target```\n",
    "\n",
    "**10 year risk of coronary heart disease CHD (binary: “1”, means “Yes”, “0” means “No”)**"
   ]
  },
  {
   "cell_type": "code",
   "execution_count": 158,
   "metadata": {
    "id": "p4ZCTpyI9Xch"
   },
   "outputs": [],
   "source": [
    "# imports you libraries\n",
    "import pandas as pd\n",
    "import numpy as np\n",
    "import matplotlib as mp\n",
    "# your code here\n",
    "pd.options.display.float_format = \"{:.2f}\".format"
   ]
  },
  {
   "cell_type": "code",
   "execution_count": 159,
   "metadata": {
    "id": "3Kn5vXEB9Xcj"
   },
   "outputs": [
    {
     "data": {
      "text/html": [
       "<div>\n",
       "<style scoped>\n",
       "    .dataframe tbody tr th:only-of-type {\n",
       "        vertical-align: middle;\n",
       "    }\n",
       "\n",
       "    .dataframe tbody tr th {\n",
       "        vertical-align: top;\n",
       "    }\n",
       "\n",
       "    .dataframe thead th {\n",
       "        text-align: right;\n",
       "    }\n",
       "</style>\n",
       "<table border=\"1\" class=\"dataframe\">\n",
       "  <thead>\n",
       "    <tr style=\"text-align: right;\">\n",
       "      <th></th>\n",
       "      <th>male</th>\n",
       "      <th>age</th>\n",
       "      <th>currentSmoker</th>\n",
       "      <th>cigsPerDay</th>\n",
       "      <th>BPMeds</th>\n",
       "      <th>prevalentStroke</th>\n",
       "      <th>prevalentHyp</th>\n",
       "      <th>diabetes</th>\n",
       "      <th>totChol</th>\n",
       "      <th>sysBP</th>\n",
       "      <th>diaBP</th>\n",
       "      <th>BMI</th>\n",
       "      <th>heartRate</th>\n",
       "      <th>glucose</th>\n",
       "      <th>TenYearCHD</th>\n",
       "    </tr>\n",
       "  </thead>\n",
       "  <tbody>\n",
       "    <tr>\n",
       "      <th>0</th>\n",
       "      <td>1</td>\n",
       "      <td>39</td>\n",
       "      <td>0</td>\n",
       "      <td>0.00</td>\n",
       "      <td>0.00</td>\n",
       "      <td>0</td>\n",
       "      <td>0</td>\n",
       "      <td>0</td>\n",
       "      <td>195.00</td>\n",
       "      <td>106.00</td>\n",
       "      <td>70.00</td>\n",
       "      <td>26.97</td>\n",
       "      <td>80.00</td>\n",
       "      <td>77.00</td>\n",
       "      <td>0</td>\n",
       "    </tr>\n",
       "    <tr>\n",
       "      <th>1</th>\n",
       "      <td>0</td>\n",
       "      <td>46</td>\n",
       "      <td>0</td>\n",
       "      <td>0.00</td>\n",
       "      <td>0.00</td>\n",
       "      <td>0</td>\n",
       "      <td>0</td>\n",
       "      <td>0</td>\n",
       "      <td>250.00</td>\n",
       "      <td>121.00</td>\n",
       "      <td>81.00</td>\n",
       "      <td>28.73</td>\n",
       "      <td>95.00</td>\n",
       "      <td>76.00</td>\n",
       "      <td>0</td>\n",
       "    </tr>\n",
       "    <tr>\n",
       "      <th>2</th>\n",
       "      <td>1</td>\n",
       "      <td>48</td>\n",
       "      <td>1</td>\n",
       "      <td>20.00</td>\n",
       "      <td>0.00</td>\n",
       "      <td>0</td>\n",
       "      <td>0</td>\n",
       "      <td>0</td>\n",
       "      <td>245.00</td>\n",
       "      <td>127.50</td>\n",
       "      <td>80.00</td>\n",
       "      <td>25.34</td>\n",
       "      <td>75.00</td>\n",
       "      <td>70.00</td>\n",
       "      <td>0</td>\n",
       "    </tr>\n",
       "    <tr>\n",
       "      <th>3</th>\n",
       "      <td>0</td>\n",
       "      <td>61</td>\n",
       "      <td>1</td>\n",
       "      <td>30.00</td>\n",
       "      <td>0.00</td>\n",
       "      <td>0</td>\n",
       "      <td>1</td>\n",
       "      <td>0</td>\n",
       "      <td>225.00</td>\n",
       "      <td>150.00</td>\n",
       "      <td>95.00</td>\n",
       "      <td>28.58</td>\n",
       "      <td>65.00</td>\n",
       "      <td>103.00</td>\n",
       "      <td>1</td>\n",
       "    </tr>\n",
       "    <tr>\n",
       "      <th>4</th>\n",
       "      <td>0</td>\n",
       "      <td>46</td>\n",
       "      <td>1</td>\n",
       "      <td>23.00</td>\n",
       "      <td>0.00</td>\n",
       "      <td>0</td>\n",
       "      <td>0</td>\n",
       "      <td>0</td>\n",
       "      <td>285.00</td>\n",
       "      <td>130.00</td>\n",
       "      <td>84.00</td>\n",
       "      <td>23.10</td>\n",
       "      <td>85.00</td>\n",
       "      <td>85.00</td>\n",
       "      <td>0</td>\n",
       "    </tr>\n",
       "  </tbody>\n",
       "</table>\n",
       "</div>"
      ],
      "text/plain": [
       "   male  age  currentSmoker  cigsPerDay  BPMeds  prevalentStroke  \\\n",
       "0     1   39              0        0.00    0.00                0   \n",
       "1     0   46              0        0.00    0.00                0   \n",
       "2     1   48              1       20.00    0.00                0   \n",
       "3     0   61              1       30.00    0.00                0   \n",
       "4     0   46              1       23.00    0.00                0   \n",
       "\n",
       "   prevalentHyp  diabetes  totChol  sysBP  diaBP   BMI  heartRate  glucose  \\\n",
       "0             0         0   195.00 106.00  70.00 26.97      80.00    77.00   \n",
       "1             0         0   250.00 121.00  81.00 28.73      95.00    76.00   \n",
       "2             0         0   245.00 127.50  80.00 25.34      75.00    70.00   \n",
       "3             1         0   225.00 150.00  95.00 28.58      65.00   103.00   \n",
       "4             0         0   285.00 130.00  84.00 23.10      85.00    85.00   \n",
       "\n",
       "   TenYearCHD  \n",
       "0           0  \n",
       "1           0  \n",
       "2           0  \n",
       "3           1  \n",
       "4           0  "
      ]
     },
     "execution_count": 159,
     "metadata": {},
     "output_type": "execute_result"
    }
   ],
   "source": [
    "heart_disease = pd.read_csv(\"framingham.csv\") # your code here\n",
    "heart_disease.head()"
   ]
  },
  {
   "cell_type": "code",
   "execution_count": 160,
   "metadata": {
    "collapsed": true,
    "id": "5R3HTRZ29Xck"
   },
   "outputs": [
    {
     "name": "stdout",
     "output_type": "stream",
     "text": [
      "<class 'pandas.core.frame.DataFrame'>\n",
      "RangeIndex: 4238 entries, 0 to 4237\n",
      "Data columns (total 15 columns):\n",
      " #   Column           Non-Null Count  Dtype  \n",
      "---  ------           --------------  -----  \n",
      " 0   male             4238 non-null   int64  \n",
      " 1   age              4238 non-null   int64  \n",
      " 2   currentSmoker    4238 non-null   int64  \n",
      " 3   cigsPerDay       4209 non-null   float64\n",
      " 4   BPMeds           4185 non-null   float64\n",
      " 5   prevalentStroke  4238 non-null   int64  \n",
      " 6   prevalentHyp     4238 non-null   int64  \n",
      " 7   diabetes         4238 non-null   int64  \n",
      " 8   totChol          4188 non-null   float64\n",
      " 9   sysBP            4238 non-null   float64\n",
      " 10  diaBP            4238 non-null   float64\n",
      " 11  BMI              4219 non-null   float64\n",
      " 12  heartRate        4237 non-null   float64\n",
      " 13  glucose          3850 non-null   float64\n",
      " 14  TenYearCHD       4238 non-null   int64  \n",
      "dtypes: float64(8), int64(7)\n",
      "memory usage: 496.8 KB\n"
     ]
    }
   ],
   "source": [
    "# print some info about the dataframe\n",
    "\n",
    "# your code here\n",
    "heart_disease.info()"
   ]
  },
  {
   "cell_type": "markdown",
   "metadata": {
    "id": "eaeMDHTJ9Xck"
   },
   "source": [
    "Looks like there are some Nan values, let's see how many for each column"
   ]
  },
  {
   "cell_type": "code",
   "execution_count": 161,
   "metadata": {
    "collapsed": true,
    "id": "5AI_2olL9Xck"
   },
   "outputs": [
    {
     "data": {
      "text/plain": [
       "male                 0\n",
       "age                  0\n",
       "currentSmoker        0\n",
       "cigsPerDay          29\n",
       "BPMeds              53\n",
       "prevalentStroke      0\n",
       "prevalentHyp         0\n",
       "diabetes             0\n",
       "totChol             50\n",
       "sysBP                0\n",
       "diaBP                0\n",
       "BMI                 19\n",
       "heartRate            1\n",
       "glucose            388\n",
       "TenYearCHD           0\n",
       "dtype: int64"
      ]
     },
     "execution_count": 161,
     "metadata": {},
     "output_type": "execute_result"
    }
   ],
   "source": [
    "# your code here\n",
    "heart_disease.isna().sum()"
   ]
  },
  {
   "cell_type": "markdown",
   "metadata": {
    "id": "rsjzeWQA9Xcl"
   },
   "source": [
    "Replace the Nan values"
   ]
  },
  {
   "cell_type": "code",
   "execution_count": 162,
   "metadata": {
    "collapsed": true,
    "id": "fg6Yzqkc9Xcm"
   },
   "outputs": [
    {
     "data": {
      "text/plain": [
       "male               0\n",
       "age                0\n",
       "currentSmoker      0\n",
       "cigsPerDay         0\n",
       "BPMeds             0\n",
       "prevalentStroke    0\n",
       "prevalentHyp       0\n",
       "diabetes           0\n",
       "totChol            0\n",
       "sysBP              0\n",
       "diaBP              0\n",
       "BMI                0\n",
       "heartRate          0\n",
       "glucose            0\n",
       "TenYearCHD         0\n",
       "dtype: int64"
      ]
     },
     "execution_count": 162,
     "metadata": {},
     "output_type": "execute_result"
    }
   ],
   "source": [
    "# check the fillna documentation: http://pandas.pydata.org/pandas-docs/stable/generated/pandas.DataFrame.fillna.html\n",
    "\n",
    "# replace the NaN values\n",
    "# your code here\n",
    "heart_disease[\"glucose\"].fillna(heart_disease[\"glucose\"].mean().round(0), inplace=True)\n",
    "heart_disease.dropna(inplace=True)\n",
    "heart_disease.isna().sum()"
   ]
  },
  {
   "cell_type": "markdown",
   "metadata": {
    "id": "8lO-sbAc9Xcn"
   },
   "source": [
    "## Visualization"
   ]
  },
  {
   "cell_type": "code",
   "execution_count": 163,
   "metadata": {
    "id": "pPZdkF3K9Xcn"
   },
   "outputs": [
    {
     "name": "stdout",
     "output_type": "stream",
     "text": [
      "heart disease rate = 0.14946183953033268\n"
     ]
    },
    {
     "data": {
      "text/plain": [
       "<AxesSubplot: title={'center': \"Label's Balance\"}, xlabel='TenYearCHD'>"
      ]
     },
     "execution_count": 163,
     "metadata": {},
     "output_type": "execute_result"
    },
    {
     "data": {
      "image/png": "[encoded data removed]",
      "text/plain": [
       "<Figure size 640x480 with 1 Axes>"
      ]
     },
     "metadata": {},
     "output_type": "display_data"
    }
   ],
   "source": [
    "%matplotlib inline\n",
    "import matplotlib.pyplot as plt\n",
    "print ('heart disease rate =', heart_disease.TenYearCHD.mean())\n",
    "(heart_disease.groupby('TenYearCHD').size()/heart_disease.shape[0]).plot(kind=\"bar\",title=\"Label's Balance\")\n"
   ]
  },
  {
   "cell_type": "code",
   "execution_count": 164,
   "metadata": {
    "id": "mVjSojhJ9Xco"
   },
   "outputs": [],
   "source": [
    "# make a function to plot survival against passenger attribute\n",
    "def heart_disease_rate(column,t):\n",
    "    df=pd.DataFrame()\n",
    "    df['total']=heart_disease.groupby(column).size()\n",
    "    df['TenYearCHD'] = heart_disease.groupby(column).sum()['TenYearCHD']\n",
    "    df['percentage'] = round(df['TenYearCHD']/df['total']*100,2)\n",
    "    print(df)\n",
    "\n",
    "    df['TenYearCHD'].plot(kind=t)\n",
    "    df['total'].plot(kind=t,alpha=0.5,title=\"TenYearCHD per \"+str(column))\n",
    "    plt.show()"
   ]
  },
  {
   "cell_type": "code",
   "execution_count": 165,
   "metadata": {
    "id": "e9Ds55q79Xco"
   },
   "outputs": [
    {
     "name": "stdout",
     "output_type": "stream",
     "text": [
      "      total  TenYearCHD  percentage\n",
      "male                               \n",
      "0      2311         276       11.94\n",
      "1      1777         335       18.85\n"
     ]
    },
    {
     "data": {
      "image/png": "[encoded data removed]",
      "text/plain": [
       "<Figure size 640x480 with 1 Axes>"
      ]
     },
     "metadata": {},
     "output_type": "display_data"
    }
   ],
   "source": [
    "# Draw survival per Sex\n",
    "heart_disease_rate(\"male\",\"barh\")"
   ]
  },
  {
   "cell_type": "code",
   "execution_count": 166,
   "metadata": {
    "id": "ESv52uFP9Xcp"
   },
   "outputs": [
    {
     "name": "stdout",
     "output_type": "stream",
     "text": [
      "            total  TenYearCHD  percentage\n",
      "cigsPerDay                               \n",
      "0.00         2084         293       14.06\n",
      "1.00           66           7       10.61\n",
      "2.00           17           2       11.76\n",
      "3.00           93           9        9.68\n",
      "4.00            9           0        0.00\n",
      "5.00          121          14       11.57\n",
      "6.00           17           3       17.65\n",
      "7.00           12           3       25.00\n",
      "8.00           10           0        0.00\n",
      "9.00          124          10        8.06\n",
      "10.00         140          20       14.29\n",
      "11.00           5           1       20.00\n",
      "12.00           3           1       33.33\n",
      "13.00           3           0        0.00\n",
      "14.00           2           0        0.00\n",
      "15.00         206          34       16.50\n",
      "16.00           3           0        0.00\n",
      "17.00           7           2       28.57\n",
      "18.00           7           2       28.57\n",
      "19.00           2           0        0.00\n",
      "20.00         714         117       16.39\n",
      "23.00           6           1       16.67\n",
      "25.00          53          11       20.75\n",
      "29.00           1           0        0.00\n",
      "30.00         208          39       18.75\n",
      "35.00          22           5       22.73\n",
      "38.00           1           0        0.00\n",
      "40.00          77          22       28.57\n",
      "43.00          55          12       21.82\n",
      "45.00           3           0        0.00\n",
      "50.00           5           1       20.00\n",
      "60.00          11           2       18.18\n",
      "70.00           1           0        0.00\n"
     ]
    },
    {
     "data": {
      "image/png": "[encoded data removed]",
      "text/plain": [
       "<Figure size 640x480 with 1 Axes>"
      ]
     },
     "metadata": {},
     "output_type": "display_data"
    }
   ],
   "source": [
    "# Draw survival per cigard per day consomation\n",
    "heart_disease_rate(\"cigsPerDay\",\"barh\")"
   ]
  },
  {
   "cell_type": "code",
   "execution_count": 167,
   "metadata": {
    "id": "YrTGe5Yw9Xcp"
   },
   "outputs": [
    {
     "name": "stdout",
     "output_type": "stream",
     "text": [
      "               total  TenYearCHD  percentage\n",
      "currentSmoker                               \n",
      "0               2084         293       14.06\n",
      "1               2004         318       15.87\n"
     ]
    },
    {
     "data": {
      "image/png": "[encoded data removed]",
      "text/plain": [
       "<Figure size 640x480 with 1 Axes>"
      ]
     },
     "metadata": {},
     "output_type": "display_data"
    }
   ],
   "source": [
    "# Graph survived per current Smoker\n",
    "heart_disease_rate(\"currentSmoker\",\"bar\")"
   ]
  },
  {
   "cell_type": "code",
   "execution_count": 168,
   "metadata": {
    "collapsed": true,
    "id": "HMoRYtzq9Xcp"
   },
   "outputs": [
    {
     "name": "stdout",
     "output_type": "stream",
     "text": [
      "          total  TenYearCHD  percentage\n",
      "diabetes                               \n",
      "0          3984         575       14.43\n",
      "1           104          36       34.62\n"
     ]
    },
    {
     "data": {
      "image/png": "[encoded data removed]",
      "text/plain": [
       "<Figure size 640x480 with 1 Axes>"
      ]
     },
     "metadata": {},
     "output_type": "display_data"
    }
   ],
   "source": [
    "# Draw survived per Number of diabetes\n",
    "# your code here\n",
    "heart_disease_rate(\"diabetes\",\"bar\")"
   ]
  },
  {
   "cell_type": "code",
   "execution_count": 169,
   "metadata": {
    "collapsed": true,
    "id": "FN4wuUhv9Xcp"
   },
   "outputs": [
    {
     "name": "stdout",
     "output_type": "stream",
     "text": [
      "              total  TenYearCHD  percentage\n",
      "prevalentHyp                               \n",
      "0              2824         305       10.80\n",
      "1              1264         306       24.21\n"
     ]
    },
    {
     "data": {
      "image/png": "[encoded data removed]",
      "text/plain": [
       "<Figure size 640x480 with 1 Axes>"
      ]
     },
     "metadata": {},
     "output_type": "display_data"
    }
   ],
   "source": [
    "# Draw survived per Number of hypertensive\n",
    "# your code here\n",
    "heart_disease_rate(\"prevalentHyp\",\"bar\")"
   ]
  },
  {
   "cell_type": "code",
   "execution_count": 174,
   "metadata": {},
   "outputs": [
    {
     "name": "stdout",
     "output_type": "stream",
     "text": [
      "           total  TenYearCHD  percentage\n",
      "heartRate                               \n",
      "44.00          1           0        0.00\n",
      "45.00          2           0        0.00\n",
      "46.00          1           0        0.00\n",
      "47.00          1           0        0.00\n",
      "48.00          5           0        0.00\n",
      "...          ...         ...         ...\n",
      "122.00         2           0        0.00\n",
      "125.00         3           0        0.00\n",
      "130.00         1           0        0.00\n",
      "140.00         1           0        0.00\n",
      "143.00         1           0        0.00\n",
      "\n",
      "[73 rows x 3 columns]\n"
     ]
    },
    {
     "data": {
      "image/png": "[encoded data removed]",
      "text/plain": [
       "<Figure size 640x480 with 1 Axes>"
      ]
     },
     "metadata": {},
     "output_type": "display_data"
    }
   ],
   "source": [
    "heart_disease_rate(\"heartRate\",\"bar\")"
   ]
  },
  {
   "cell_type": "markdown",
   "metadata": {
    "id": "-fEc4HUu9Xcq"
   },
   "source": [
    "## Model training"
   ]
  },
  {
   "cell_type": "code",
   "execution_count": 175,
   "metadata": {
    "collapsed": true,
    "id": "ZFt_bUDH9Xcq"
   },
   "outputs": [],
   "source": [
    "#Put only important columns in predictors. You have to find if there is column to remove\n",
    "predictors = [ \"male\",\"age\",\"cigsPerDay\",\"BPMeds\",\"prevalentStroke\",\"prevalentHyp\",\"diabetes\",\"totChol\",\"sysBP\",\"diaBP\",\"BMI\",\"heartRate\", \"glucose\" ]"
   ]
  },
  {
   "cell_type": "code",
   "execution_count": 176,
   "metadata": {
    "collapsed": true,
    "id": "7CvWSj-k9Xcr"
   },
   "outputs": [
    {
     "name": "stdout",
     "output_type": "stream",
     "text": [
      "train shape (2861, 13) (2861,)\n",
      "test shape (1227, 13) (1227,)\n"
     ]
    }
   ],
   "source": [
    "# Split the data into a training set and a testing set. Set: test_size=0.3, random_state=1\n",
    "# your code here\n",
    "from sklearn.model_selection import train_test_split\n",
    "\n",
    "for col in predictors:\n",
    "  if (heart_disease[col].dtype == 'object'):\n",
    "    heart_disease[col] = heart_disease[col].astype('category')\n",
    "    heart_disease[col] = heart_disease[col].cat.codes\n",
    "\n",
    "X_train, X_test, y_train, y_test = train_test_split(heart_disease[predictors], heart_disease['TenYearCHD'], test_size=0.3, random_state=1)\n",
    "\n",
    "print (\"train shape\", X_train.shape, y_train.shape)\n",
    "print (\"test shape\", X_test.shape, y_test.shape)"
   ]
  },
  {
   "cell_type": "code",
   "execution_count": 186,
   "metadata": {
    "collapsed": true,
    "id": "KBjnYcSk9Xcr"
   },
   "outputs": [
    {
     "name": "stdout",
     "output_type": "stream",
     "text": [
      "train accuracy = 0.858441104508913\n",
      "test accuracy = 0.8492257538712307\n"
     ]
    }
   ],
   "source": [
    "# import LogisticRegression from: http://scikit-learn.org/stable/modules/generated/sklearn.linear_model.LogisticRegression.html\n",
    "# your code here\n",
    "from sklearn.linear_model import LogisticRegression\n",
    "clf = LogisticRegression(random_state=1, max_iter=900)\n",
    "\n",
    "# fit the model with the training data\n",
    "clf.fit(X_train, y_train)\n",
    "\n",
    "train_score = clf.score(X_train, y_train) \n",
    "test_score = clf.score(X_test, y_test)\n",
    "print ('train accuracy =', train_score)\n",
    "print ('test accuracy =', test_score)"
   ]
  },
  {
   "cell_type": "markdown",
   "metadata": {
    "id": "3h_lLo9L9Xcs"
   },
   "source": [
    "Let's print the model's parameters"
   ]
  },
  {
   "cell_type": "code",
   "execution_count": 187,
   "metadata": {
    "collapsed": true,
    "id": "g8O0eXo-9Xcs"
   },
   "outputs": [
    {
     "name": "stdout",
     "output_type": "stream",
     "text": [
      "            Feature  Coefficient Estimate\n",
      "0              male                  0.59\n",
      "1               age                  0.07\n",
      "2        cigsPerDay                  0.02\n",
      "3            BPMeds                  0.36\n",
      "4   prevalentStroke                  0.03\n",
      "5      prevalentHyp                  0.09\n",
      "6          diabetes                  0.33\n",
      "7           totChol                  0.00\n",
      "8             sysBP                  0.01\n",
      "9             diaBP                 -0.00\n",
      "10              BMI                  0.01\n",
      "11        heartRate                  0.00\n",
      "12          glucose                  0.01\n",
      "13        Intercept                 -8.81\n"
     ]
    }
   ],
   "source": [
    "coeff = pd.DataFrame()\n",
    "coeff['Feature'] = X_train.columns\n",
    "coeff['Coefficient Estimate'] = pd.Series(clf.coef_[0])\n",
    "coeff.loc[len(coeff)]=['Intercept',clf.intercept_[0]]\n",
    "print (coeff)"
   ]
  },
  {
   "cell_type": "markdown",
   "metadata": {
    "id": "qqGOuOla9Xcs"
   },
   "source": [
    "We now need to predict class labels for the test set. We will also generate the class probabilities"
   ]
  },
  {
   "cell_type": "code",
   "execution_count": 191,
   "metadata": {
    "collapsed": true,
    "id": "XP9i5RY89Xcs"
   },
   "outputs": [
    {
     "name": "stdout",
     "output_type": "stream",
     "text": [
      "[0 0 0 ... 0 0 0]\n"
     ]
    }
   ],
   "source": [
    "# predict class labels for the test set\n",
    "y_pred = clf.predict(X_test)\n",
    "print (y_pred)"
   ]
  },
  {
   "cell_type": "code",
   "execution_count": 192,
   "metadata": {
    "collapsed": true,
    "id": "YcyX1vod9Xcs"
   },
   "outputs": [
    {
     "name": "stdout",
     "output_type": "stream",
     "text": [
      "[[0.78963715 0.21036285]\n",
      " [0.78690503 0.21309497]\n",
      " [0.91740378 0.08259622]\n",
      " ...\n",
      " [0.97122384 0.02877616]\n",
      " [0.91857502 0.08142498]\n",
      " [0.95595787 0.04404213]]\n"
     ]
    }
   ],
   "source": [
    "# generate class probabilities : http://scikit-learn.org/stable/modules/generated/sklearn.linear_model.LogisticRegression.html\n",
    "y_probs = clf.predict_proba(X_test)\n",
    "print (y_probs)"
   ]
  },
  {
   "cell_type": "markdown",
   "metadata": {
    "id": "LZcfyRhp9Xcs"
   },
   "source": [
    "As you can see, the classifier outputs two probabilities for each row. It's predicting a 1 any time the probability in the second column is greater than 0.5. Let's visualize it all together."
   ]
  },
  {
   "cell_type": "code",
   "execution_count": 194,
   "metadata": {
    "collapsed": true,
    "id": "NpLKax-J9Xcs"
   },
   "outputs": [
    {
     "data": {
      "text/html": [
       "<div>\n",
       "<style scoped>\n",
       "    .dataframe tbody tr th:only-of-type {\n",
       "        vertical-align: middle;\n",
       "    }\n",
       "\n",
       "    .dataframe tbody tr th {\n",
       "        vertical-align: top;\n",
       "    }\n",
       "\n",
       "    .dataframe thead th {\n",
       "        text-align: right;\n",
       "    }\n",
       "</style>\n",
       "<table border=\"1\" class=\"dataframe\">\n",
       "  <thead>\n",
       "    <tr style=\"text-align: right;\">\n",
       "      <th></th>\n",
       "      <th>Heart_disease_original</th>\n",
       "      <th>Heart_disease_predicted</th>\n",
       "      <th>Heart_disease_proba</th>\n",
       "      <th>Comparison</th>\n",
       "    </tr>\n",
       "  </thead>\n",
       "  <tbody>\n",
       "    <tr>\n",
       "      <th>1665</th>\n",
       "      <td>0</td>\n",
       "      <td>0</td>\n",
       "      <td>0.21</td>\n",
       "      <td>True</td>\n",
       "    </tr>\n",
       "    <tr>\n",
       "      <th>3727</th>\n",
       "      <td>0</td>\n",
       "      <td>0</td>\n",
       "      <td>0.21</td>\n",
       "      <td>True</td>\n",
       "    </tr>\n",
       "    <tr>\n",
       "      <th>1813</th>\n",
       "      <td>0</td>\n",
       "      <td>0</td>\n",
       "      <td>0.08</td>\n",
       "      <td>True</td>\n",
       "    </tr>\n",
       "    <tr>\n",
       "      <th>2365</th>\n",
       "      <td>0</td>\n",
       "      <td>0</td>\n",
       "      <td>0.03</td>\n",
       "      <td>True</td>\n",
       "    </tr>\n",
       "    <tr>\n",
       "      <th>238</th>\n",
       "      <td>1</td>\n",
       "      <td>0</td>\n",
       "      <td>0.11</td>\n",
       "      <td>False</td>\n",
       "    </tr>\n",
       "  </tbody>\n",
       "</table>\n",
       "</div>"
      ],
      "text/plain": [
       "      Heart_disease_original  Heart_disease_predicted  Heart_disease_proba  \\\n",
       "1665                       0                        0                 0.21   \n",
       "3727                       0                        0                 0.21   \n",
       "1813                       0                        0                 0.08   \n",
       "2365                       0                        0                 0.03   \n",
       "238                        1                        0                 0.11   \n",
       "\n",
       "      Comparison  \n",
       "1665        True  \n",
       "3727        True  \n",
       "1813        True  \n",
       "2365        True  \n",
       "238        False  "
      ]
     },
     "execution_count": 194,
     "metadata": {},
     "output_type": "execute_result"
    }
   ],
   "source": [
    "pred = pd.DataFrame({        \n",
    "        \"Heart_disease_original\": y_test,\n",
    "        \"Heart_disease_predicted\": y_pred,\n",
    "        \"Heart_disease_proba\": np.transpose(y_probs)[1]      \n",
    "        })\n",
    "pred[\"Comparison\"]= pred.Heart_disease_original ==pred.Heart_disease_predicted\n",
    "pred.head()"
   ]
  },
  {
   "cell_type": "markdown",
   "metadata": {
    "id": "Phow9sQf9Xct"
   },
   "source": [
    "## Confusion matrix"
   ]
  },
  {
   "cell_type": "code",
   "execution_count": 198,
   "metadata": {
    "collapsed": true,
    "id": "5uI53Euc9Xct"
   },
   "outputs": [
    {
     "name": "stdout",
     "output_type": "stream",
     "text": [
      "[[1031   11]\n",
      " [ 174   11]]\n",
      "              precision    recall  f1-score   support\n",
      "\n",
      "           0       0.86      0.99      0.92      1042\n",
      "           1       0.50      0.06      0.11       185\n",
      "\n",
      "    accuracy                           0.85      1227\n",
      "   macro avg       0.68      0.52      0.51      1227\n",
      "weighted avg       0.80      0.85      0.80      1227\n",
      "\n"
     ]
    }
   ],
   "source": [
    "from sklearn import metrics\n",
    "print (metrics.confusion_matrix(y_test, y_pred))\n",
    "print (metrics.classification_report(y_test, y_pred))"
   ]
  },
  {
   "cell_type": "markdown",
   "metadata": {
    "id": "Uvm8Z-pM9Xct"
   },
   "source": [
    "As you can see, we can have the classification report for each class"
   ]
  },
  {
   "cell_type": "markdown",
   "metadata": {
    "id": "lOBU4czd9Xct"
   },
   "source": [
    "## K-Fold Cross Validation"
   ]
  },
  {
   "cell_type": "code",
   "execution_count": 203,
   "metadata": {
    "collapsed": true,
    "id": "vY5Jyd6E9Xct"
   },
   "outputs": [
    {
     "name": "stdout",
     "output_type": "stream",
     "text": [
      "[0.85330073 0.85696822 0.84963325 0.86046512 0.85312118]\n",
      "0.8546976983597334\n"
     ]
    }
   ],
   "source": [
    "# import cross_validation from: http://scikit-learn.org/stable/modules/generated/sklearn.model_selection.cross_val_score.html\n",
    "# your code here\n",
    "from sklearn import model_selection\n",
    "clf = LogisticRegression(random_state=1, max_iter=1500)\n",
    "scores = model_selection.cross_val_score(clf, heart_disease[predictors], heart_disease[\"TenYearCHD\"], scoring='accuracy', cv=5)\n",
    "## see model \n",
    "print(scores)\n",
    "# Take the mean of the scores (because we have one for each fold)\n",
    "print(scores.mean())"
   ]
  },
  {
   "cell_type": "markdown",
   "metadata": {
    "collapsed": true,
    "id": "wzBrwUE_9Xct"
   },
   "source": [
    "When you are improving a model, you want to make sur that you are really doing it and not just being lucky. This is why it's good to work with cross validation instead of one train/test split."
   ]
  },
  {
   "cell_type": "code",
   "execution_count": null,
   "metadata": {
    "collapsed": true,
    "id": "TE4z7B6g9Xcu"
   },
   "outputs": [],
   "source": [
    "     "
   ]
  }
 ],
 "metadata": {
  "anaconda-cloud": {},
  "colab": {
   "collapsed_sections": [],
   "name": "Lab3-[Logistic Regression]-Titanic.ipynb",
   "provenance": []
  },
  "kernelspec": {
   "display_name": "Python 3",
   "language": "python",
   "name": "python3"
  },
  "language_info": {
   "codemirror_mode": {
    "name": "ipython",
    "version": 3
   },
   "file_extension": ".py",
   "mimetype": "text/x-python",
   "name": "python",
   "nbconvert_exporter": "python",
   "pygments_lexer": "ipython3",
   "version": "3.11.0"
  },
  "vscode": {
   "interpreter": {
    "hash": "c261aea317cc0286b3b3261fbba9abdec21eaa57589985bb7a274bf54d6cc0a7"
   }
  }
 },
 "nbformat": 4,
 "nbformat_minor": 1
}
